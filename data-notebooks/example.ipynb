{
 "cells": [
  {
   "attachments": {},
   "cell_type": "markdown",
   "id": "b3460ce8-cec7-43f5-ab5a-6f48b279b6e2",
   "metadata": {},
   "source": [
    "# Example Notebook for Testing Code Link in Graph"
   ]
  },
  {
   "cell_type": "code",
   "execution_count": 1,
   "id": "0ba5ea33-ba65-4fde-887f-5afeedbab3f4",
   "metadata": {},
   "outputs": [],
   "source": [
    "a = 1"
   ]
  },
  {
   "cell_type": "code",
   "execution_count": 2,
   "id": "3e8b5ec0-dd33-4223-9343-f0648cfb84a6",
   "metadata": {},
   "outputs": [
    {
     "data": {
      "text/plain": [
       "1"
      ]
     },
     "execution_count": 2,
     "metadata": {},
     "output_type": "execute_result"
    }
   ],
   "source": [
    "a"
   ]
  },
  {
   "cell_type": "markdown",
   "id": "61cb407e-b6d6-4ab6-ad97-3a9d1e743152",
   "metadata": {},
   "source": [
    "## Hello 2\n",
    "The world is round."
   ]
  },
  {
   "cell_type": "code",
   "execution_count": null,
   "id": "ad7f1ff8-1655-4c40-8f3e-2d38631f2629",
   "metadata": {},
   "outputs": [],
   "source": []
  }
 ],
 "metadata": {
  "kernelspec": {
   "display_name": "Python 3 (ipykernel)",
   "language": "python",
   "name": "python3"
  },
  "language_info": {
   "codemirror_mode": {
    "name": "ipython",
    "version": 3
   },
   "file_extension": ".py",
   "mimetype": "text/x-python",
   "name": "python",
   "nbconvert_exporter": "python",
   "pygments_lexer": "ipython3",
   "version": "3.11.0"
  },
  "toc-autonumbering": false,
  "toc-showcode": true,
  "toc-showmarkdowntxt": false
 },
 "nbformat": 4,
 "nbformat_minor": 5
}
